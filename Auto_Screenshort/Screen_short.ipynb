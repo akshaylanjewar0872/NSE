{
 "cells": [
  {
   "cell_type": "code",
   "execution_count": null,
   "id": "39ba5347",
   "metadata": {},
   "outputs": [],
   "source": [
    "import mysql.connector\n",
    "import pandas as pd\n",
    "import pyautogui\n",
    "pyautogui.position()\n",
    "import matplotlib.pyplot as plt\n",
    "import os\n",
    "from datetime import datetime\n",
    "import pyperclip\n",
    "import subprocess\n",
    "import time"
   ]
  },
  {
   "cell_type": "markdown",
   "id": "b7480cba",
   "metadata": {},
   "source": [
    "## Auto_Screenshort"
   ]
  },
  {
   "cell_type": "code",
   "execution_count": null,
   "id": "f52c06c6",
   "metadata": {},
   "outputs": [],
   "source": [
    "# ---------------------\n",
    "# USER INPUT SECTION\n",
    "# ---------------------\n",
    "schema_name = \"nse\"       # 👈 Provide your schema name here\n",
    "table_name = \"employee\"   # 👈 Provide your table name here\n",
    "\n",
    "query = f\"\"\"SELECT * FROM {schema_name}.{table_name} LIMIT 10;\"\"\"  # 👈 Auto builds query\n",
    "\n",
    "mysql_workbench_path = r\"C:\\Program Files\\MySQL\\MySQL Workbench 8.0\\MySQLWorkbench.exe\"\n",
    "screenshot_folder = os.path.join(os.path.expanduser(\"~\"), \"Downloads\", \"sacreenshoret\")\n",
    "\n",
    "# ---------------------\n",
    "# STEP 1: Launch MySQL Workbench\n",
    "# ---------------------\n",
    "subprocess.Popen(mysql_workbench_path)\n",
    "print(\"🟡 Launching MySQL Workbench...\")\n",
    "time.sleep(15)  # Wait for app to fully load\n",
    "\n",
    "# ---------------------\n",
    "# STEP 2: Open new tab\n",
    "# ---------------------\n",
    "print(\"📄 Creating new tab...\")\n",
    "pyautogui.hotkey(\"ctrl\", \"t\")\n",
    "time.sleep(2)\n",
    "\n",
    "# ---------------------\n",
    "# STEP 3: Rename the new tab\n",
    "# ---------------------\n",
    "timestamp = datetime.now().strftime(\"%Y%m%d_%H%M%S\")\n",
    "new_tab_name = f\"{table_name}_{timestamp}.sql\"\n",
    "pyautogui.hotkey(\"alt\", \"f\")  # Open File menu\n",
    "time.sleep(1)\n",
    "pyautogui.press(\"a\")  # Press 'Save As'\n",
    "time.sleep(2)\n",
    "pyperclip.copy(new_tab_name)\n",
    "pyautogui.hotkey(\"ctrl\", \"v\")\n",
    "time.sleep(1)\n",
    "pyautogui.press(\"enter\")  # Confirm Save\n",
    "print(f\"📝 Tab renamed to: {new_tab_name}\")\n",
    "time.sleep(1)\n",
    "\n",
    "# ---------------------\n",
    "# STEP 4: Paste SQL Query\n",
    "# ---------------------\n",
    "pyperclip.copy(query)\n",
    "pyautogui.hotkey(\"ctrl\", \"v\")\n",
    "print(\"📋 Query pasted.\")\n",
    "time.sleep(1)\n",
    "\n",
    "# ---------------------\n",
    "# STEP 5: Run Query\n",
    "# ---------------------\n",
    "pyautogui.hotkey(\"ctrl\", \"shift\", \"enter\")\n",
    "print(\"▶️ Executing query...\")\n",
    "time.sleep(10)\n",
    "\n",
    "# ---------------------\n",
    "# STEP 6: Navigate to result grid\n",
    "# ---------------------\n",
    "pyautogui.press(\"tab\")\n",
    "time.sleep(2)\n",
    "pyautogui.press(\"down\")\n",
    "time.sleep(1)\n",
    "\n",
    "# ---------------------\n",
    "# STEP 7: Screenshot results\n",
    "# ---------------------\n",
    "os.makedirs(screenshot_folder, exist_ok=True)\n",
    "screenshot_path = os.path.join(screenshot_folder, f\"{table_name}_{timestamp}.png\")\n",
    "pyautogui.screenshot(screenshot_path)\n",
    "print(f\"✅ Screenshot saved at: {screenshot_path}\")\n",
    "\n",
    "# ---------------------\n",
    "# STEP 8: Close MySQL Workbench\n",
    "# ---------------------\n",
    "print(\"❌ Closing MySQL Workbench...\")\n",
    "os.system(\"taskkill /f /im MySQLWorkbench.exe\")\n",
    "time.sleep(1)"
   ]
  },
  {
   "cell_type": "markdown",
   "id": "c775d514",
   "metadata": {},
   "source": [
    "\n"
   ]
  }
 ],
 "metadata": {
  "kernelspec": {
   "display_name": "Python 3 (ipykernel)",
   "language": "python",
   "name": "python3"
  },
  "language_info": {
   "codemirror_mode": {
    "name": "ipython",
    "version": 3
   },
   "file_extension": ".py",
   "mimetype": "text/x-python",
   "name": "python",
   "nbconvert_exporter": "python",
   "pygments_lexer": "ipython3",
   "version": "3.11.5"
  }
 },
 "nbformat": 4,
 "nbformat_minor": 5
}

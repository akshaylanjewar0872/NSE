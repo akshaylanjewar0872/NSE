{
 "cells": [
  {
   "cell_type": "code",
   "execution_count": null,
   "id": "a7e983ee",
   "metadata": {},
   "outputs": [],
   "source": [
    "!pip install pymysql"
   ]
  },
  {
   "cell_type": "code",
   "execution_count": null,
   "id": "b925c1f1",
   "metadata": {},
   "outputs": [],
   "source": [
    "import pymysql\n",
    "\n",
    "# Connect to MySQL\n",
    "conn = pymysql.connect(\n",
    "    host='127.0.0.1',      # or your DB host\n",
    "    user='root',\n",
    "    password='Akshay@123',\n",
    "    database='tcs'\n",
    ")\n",
    "\n",
    "cursor = conn.cursor()\n",
    "\n",
    "\n",
    "# Fetch column names from Employee table\n",
    "cursor.execute(\"SHOW COLUMNS FROM Employee;\")\n",
    "columns = [row[0] for row in cursor.fetchall()]\n",
    "\n",
    "# Prepare insert query dynamically\n",
    "columns_str = \", \".join(columns)\n",
    "\n",
    "insert_query = f\"\"\"\n",
    "INSERT INTO Employee ({columns_str})\n",
    "SELECT {columns_str}\n",
    "FROM Employee_1;\n",
    "\"\"\"\n",
    "\n",
    "try:\n",
    "    cursor.execute(insert_query)\n",
    "    conn.commit()\n",
    "    print(\"Data inserted successfully from Employee_1 to Employee.\")\n",
    "except Exception as e:\n",
    "    print(\"Error:\", e)\n",
    "    conn.rollback()\n",
    "\n",
    "# Close connection\n",
    "cursor.close()\n",
    "conn.close()\n"
   ]
  },
  {
   "cell_type": "markdown",
   "id": "79fcb416",
   "metadata": {},
   "source": [
    "## Source Database to Targer Database."
   ]
  },
  {
   "cell_type": "code",
   "execution_count": null,
   "id": "a9c46bfc",
   "metadata": {},
   "outputs": [],
   "source": [
    "import pymysql\n",
    "\n",
    "# Function to insert data from source_dba to target_dba for given table\n",
    "def insert_data(table_name_input,source_dba,target_dba):\n",
    "    try:\n",
    "        # Connect to MySQL server (both DBs are on same server)\n",
    "        conn = pymysql.connect(\n",
    "            host='127.0.0.1',      \n",
    "            user='root',\n",
    "            password='Akshay@123'\n",
    "        )\n",
    "        cursor = conn.cursor()\n",
    "\n",
    "        # Prepare dynamic insert query\n",
    "        insert_query = f\"\"\"INSERT INTO {target_dba}.{table_name_input} SELECT * FROM {source_dba}.{table_name_input};\"\"\"\n",
    "\n",
    "        cursor.execute(insert_query)\n",
    "        conn.commit()\n",
    "        print(f\"Data inserted successfully from {source_dba}.{table_name_input} to {target_dba}.{table_name_input}.\")\n",
    "\n",
    "    except Exception as e:\n",
    "        print(\"Error:\", e)\n",
    "        conn.rollback()\n",
    "\n",
    "    finally:\n",
    "        cursor.close()\n",
    "        conn.close()\n",
    "\n",
    "# Take table name as input from user\n",
    "table_name_input = input(\"Enter table name: \")\n",
    "\n",
    "source_dba = \"tcs\"\n",
    "target_dba = \"NSE\"\n",
    "\n",
    "insert_data(table_name_input,source_dba,target_dba )\n"
   ]
  }
 ],
 "metadata": {
  "kernelspec": {
   "display_name": "Python 3 (ipykernel)",
   "language": "python",
   "name": "python3"
  },
  "language_info": {
   "codemirror_mode": {
    "name": "ipython",
    "version": 3
   },
   "file_extension": ".py",
   "mimetype": "text/x-python",
   "name": "python",
   "nbconvert_exporter": "python",
   "pygments_lexer": "ipython3",
   "version": "3.11.5"
  }
 },
 "nbformat": 4,
 "nbformat_minor": 5
}
